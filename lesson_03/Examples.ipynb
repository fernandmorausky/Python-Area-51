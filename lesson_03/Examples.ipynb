{
 "cells": [
  {
   "cell_type": "markdown",
   "metadata": {},
   "source": [
    "# Ejemplos de Clase #"
   ]
  },
  {
   "cell_type": "markdown",
   "metadata": {},
   "source": [
    "## 1. Promedios ##\n",
    "\n",
    "Dada una lista de enteros que representan medidas de altura de plantas, el profesor de botánica Dr. Pierre Curie te pide de favor que calcules el promedio de altura de todas las plantas y además lo más importante, el promedio de las plantas con alturas distintas.\n",
    "\n",
    "### Solución ###"
   ]
  },
  {
   "cell_type": "markdown",
   "metadata": {},
   "source": [
    "Nos apoyamos en la propiedad de set de no tener elementos duplicados para eliminar los elementos repetidos en la lista de plantas."
   ]
  },
  {
   "cell_type": "code",
   "execution_count": null,
   "metadata": {},
   "outputs": [],
   "source": [
    "array = [3, 3, 5, 6, 8, 8, 2]\n",
    "\n",
    "mean = sum(array) / len(array)\n",
    "\n",
    "array_no_duplicate = set(array)\n",
    "mean_no_duplicate = sum(array_no_duplicate) / len(array_no_duplicate)\n",
    "\n",
    "print(mean, mean_no_duplicate)"
   ]
  },
  {
   "cell_type": "markdown",
   "metadata": {},
   "source": [
    "## 2. Pares de sumas ##\n",
    "\n",
    "Dada una lista de números enteros y un valor dado `m`, debes encontrar todos los pares de elementos de la lista que sumen `m`.\n",
    "\n",
    "### Solución ###"
   ]
  },
  {
   "cell_type": "markdown",
   "metadata": {},
   "source": [
    "La idea es mantener una lista auxiliar en la que iremos buscando el complemento (la diferencia para obtener la suma deseada) de cada elemento de la primera lista y luego este elemento es agregado a la lista auxiliar ya que es un nuevo posible complemento."
   ]
  },
  {
   "cell_type": "code",
   "execution_count": null,
   "metadata": {},
   "outputs": [],
   "source": [
    "array = [7, 5, 2, 6, 4, 8, 9]\n",
    "m = 14\n",
    "\n",
    "array_aux = []\n",
    "for i in array:\n",
    "    if m - i in array_aux:\n",
    "        print(m - i, i)\n",
    "    array_aux.append(i)"
   ]
  },
  {
   "cell_type": "markdown",
   "metadata": {},
   "source": [
    "La búsqueda en listas son lentas, así que nos apoyamos en un set que tiene búsquedas eficientes."
   ]
  },
  {
   "cell_type": "code",
   "execution_count": null,
   "metadata": {},
   "outputs": [],
   "source": [
    "hash_table = set()\n",
    "for i in array:\n",
    "    if m - i in hash_table:\n",
    "        print(m - i, i)\n",
    "    hash_table.add(i)"
   ]
  },
  {
   "cell_type": "markdown",
   "metadata": {},
   "source": [
    "## 3. Ocurrencias ##\n",
    "\n",
    "Lee una cadena de caracteres, y debes imprimir cada palabra en esta cadena y el número de ocurrencias de esta.\n",
    "\n",
    "**Ejemplo:**\n",
    "\n",
    "Entrada:\n",
    "\n",
    "    \"bbb aaa bbb bbb aaa\"\n",
    "\n",
    "Salida:\n",
    "\n",
    "    bbb 3\n",
    "    aaa 2\n",
    "\n",
    "### Solución ###"
   ]
  },
  {
   "cell_type": "markdown",
   "metadata": {},
   "source": [
    "Para contar eficientemente las ocurrencias podemos apoyarnos en un diccionario."
   ]
  },
  {
   "cell_type": "code",
   "execution_count": null,
   "metadata": {},
   "outputs": [],
   "source": [
    "string = input()\n",
    "\n",
    "hash_table = {}\n",
    "for word in string.split():\n",
    "    if hash_table.get(word) == None:\n",
    "        hash_table[word] = 1\n",
    "    else:\n",
    "        hash_table[word] += 1\n",
    "\n",
    "for key, value in hash_table.items():\n",
    "    print(key, value)"
   ]
  },
  {
   "cell_type": "markdown",
   "metadata": {},
   "source": [
    "## 4. Simple número ##\n",
    "\n",
    "Dada una lista de enteros no vacía, cada elemento aparece dos veces, excepto uno. Encuentra este número.\n",
    "\n",
    "**Ejemplo:**\n",
    "\n",
    ">Entrada: [2,2,1]\n",
    ">\n",
    ">Salida: 1\n",
    "\n",
    "\n",
    "### Solución ###"
   ]
  },
  {
   "cell_type": "markdown",
   "metadata": {},
   "source": [
    "La idea es eliminar todos los pares repetidos, así nos quedamos sólo con el elemento único. Para esto creamos un diccionario en el que iremos guardando cada elemento nuevo que provenga de la lista, pero si este elemento ya existe lo eliminamos. Obviamente ya no consideramos una lista porque las busquedas en esta son menos efecientes."
   ]
  },
  {
   "cell_type": "code",
   "execution_count": null,
   "metadata": {},
   "outputs": [],
   "source": [
    "hash_table = {}\n",
    "for i in nums:\n",
    "    if hash_table.get(i):\n",
    "        del hash_table[i]\n",
    "    else:\n",
    "        hash_table[i] = 1\n",
    "\n",
    "print(hash_table.popitem()[0])"
   ]
  },
  {
   "cell_type": "markdown",
   "metadata": {},
   "source": [
    "También podríamos resolverlo apoyándonos en las matemáticas. Si eliminamos los duplicados, el doble de la suma de estos elementos sería mayor, en una cantidad igual al elemento buscado, que la suma total de los elementos de la lista dada.\n",
    "\n",
    "Es decir, si la lista fuera `[a, a, b, b, c]` tendríamos: `2 ∗ (a+b+c) − (a+a+b+b+c) = c`"
   ]
  },
  {
   "cell_type": "code",
   "execution_count": null,
   "metadata": {},
   "outputs": [],
   "source": [
    "print(2 * sum(set(nums)) - sum(nums))"
   ]
  }
 ],
 "metadata": {
  "kernelspec": {
   "display_name": "Python 3",
   "language": "python",
   "name": "python3"
  },
  "language_info": {
   "codemirror_mode": {
    "name": "ipython",
    "version": 3
   },
   "file_extension": ".py",
   "mimetype": "text/x-python",
   "name": "python",
   "nbconvert_exporter": "python",
   "pygments_lexer": "ipython3",
   "version": "3.7.2"
  }
 },
 "nbformat": 4,
 "nbformat_minor": 2
}

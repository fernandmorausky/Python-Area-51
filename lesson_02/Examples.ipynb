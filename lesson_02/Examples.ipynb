{
 "cells": [
  {
   "cell_type": "markdown",
   "metadata": {},
   "source": [
    "# Ejemplos de Clase #"
   ]
  },
  {
   "cell_type": "markdown",
   "metadata": {},
   "source": [
    "## 1. Listas ##\n",
    "\n",
    "Considera una lista `lista = []`. Puedes realizarlos siguientes comandos:\n",
    "\n",
    "* `insert i e`: Inserta el entero `e` en la posición `i`.\n",
    "* `print`: Imprime la lista.\n",
    "* `remove e`: Elimina la primera ocurrencia del entero `e`.\n",
    "* `append e`: Inserta el entero `e` al final de la lista.\n",
    "* `sort`: Ordena la lista.\n",
    "* `pop`: Elimina el último element de la lista.\n",
    "* `reverse`: Invierte la lista.\n",
    "\n",
    "Crea tu lista y lee el valor de `n`, las siguientes `n` líneas serán comandos de alguno de los tipos de arriba. Ejecuta cada uno de los comandos a tu lista, en el orden en que son entregados.\n",
    "\n",
    "### Solución ###"
   ]
  },
  {
   "cell_type": "code",
   "execution_count": null,
   "metadata": {},
   "outputs": [],
   "source": [
    "n = int(input())\n",
    "\n",
    "res = []\n",
    "for i in range(n):\n",
    "    _in = input()\n",
    "    _list = _in.split(' ')\n",
    "    if _list[0] == 'print':\n",
    "        print(res)\n",
    "    if _list[0] == 'sort':\n",
    "        res.sort()\n",
    "    if _list[0] == 'pop':\n",
    "        res.pop()\n",
    "    if _list[0] == 'reverse':\n",
    "        res.reverse()\n",
    "    if _list[0] == 'remove':\n",
    "        res.remove(int(_list[1]))\n",
    "    if _list[0] == 'append':\n",
    "        res.append(int(_list[1]))\n",
    "    if _list[0] == 'insert':\n",
    "        res.insert(int(_list[1]), int(_list[2]))"
   ]
  },
  {
   "cell_type": "markdown",
   "metadata": {},
   "source": [
    "## 2. Dos mayores ##\n",
    "\n",
    "Dada una lista de números enteros, imprime el mayor y el segundo mayor, en ese orden.\n",
    "\n",
    "### Solución ###"
   ]
  },
  {
   "cell_type": "code",
   "execution_count": null,
   "metadata": {},
   "outputs": [],
   "source": [
    "_list = [1, 2, 3, 5, 4, 6, 0]\n",
    "_list.sort()\n",
    "n = len(_list)\n",
    "print(_list[n - 1], _list[n - 2])"
   ]
  },
  {
   "cell_type": "code",
   "execution_count": null,
   "metadata": {},
   "outputs": [],
   "source": [
    "_list = [1, 2, 3, 5, 4, 6, 0]\n",
    "_max = second_max = -1e9\n",
    "for e in _list:\n",
    "    if e > _max:\n",
    "        second_max = _max\n",
    "        _max = e\n",
    "    elif e > second_max:\n",
    "        second_max = e\n",
    "print(_max, second_max)"
   ]
  },
  {
   "cell_type": "markdown",
   "metadata": {},
   "source": [
    "## 3. Subcadenas ##\n",
    "\n",
    "Lee una cadena y una subcadena de esta. Debes imprimir el número de veces que la subcadena aparece en la cadena. Considera que la cuenta sólo se hace de izquierda a derecha.\n",
    "\n",
    "### Solución ###"
   ]
  },
  {
   "cell_type": "code",
   "execution_count": null,
   "metadata": {},
   "outputs": [],
   "source": [
    "string = input()\n",
    "sub_string = input()\n",
    "\n",
    "con = 0\n",
    "for i in range(len(string) - len(sub_string) + 1):\n",
    "    ban = True\n",
    "    for j in range(len(sub_string)):\n",
    "        if string[i + j] != sub_string[j]:\n",
    "            ban = False\n",
    "            break\n",
    "    if ban:\n",
    "        con += 1\n",
    "print(con)"
   ]
  },
  {
   "cell_type": "markdown",
   "metadata": {},
   "source": [
    "## 4. Mayor prefijo común ##\n",
    "\n",
    "Escribe un programa que calcule el más largo prefijo común de una lista de cadenas (sólo minúsculas de `a - z`).\n",
    "\n",
    "Si no tienen prefijo común retorna una cadena vacía `\"\"`.\n",
    "\n",
    "**Ejemplo 1:**\n",
    "\n",
    ">Entrada: `[\"flower\",\"flow\",\"flight\"]`\n",
    ">\n",
    ">Salida: `\"fl\"`\n",
    "\n",
    "**Ejemplo 2:**\n",
    "\n",
    ">Entrada: `[\"dog\",\"racecar\",\"car\"]`\n",
    ">\n",
    ">Salida: `\"\"`\n",
    ">\n",
    ">Explicación: Las cadenas no tienen prefijo común.\n",
    "\n",
    "\n",
    "### Solución ###"
   ]
  },
  {
   "cell_type": "code",
   "execution_count": null,
   "metadata": {},
   "outputs": [],
   "source": [
    "lstr = [\"flower\", \"flow\", \"flight\"]\n",
    "\n",
    "if len(lstr) == 0:\n",
    "    print(\"\");\n",
    "min_size = 1e9;\n",
    "for s in lstr:\n",
    "    min_size = min(min_size, len(s));\n",
    "out = \"\"\n",
    "for j in range(min_size):\n",
    "    ban = True\n",
    "    for i in range(1, len(lstr)):\n",
    "        if lstr[i][j] != lstr[i - 1][j]:\n",
    "            ban = False\n",
    "    if ban:\n",
    "        out += lstr[0][j]\n",
    "    else:\n",
    "        break\n",
    "print(out);"
   ]
  }
 ],
 "metadata": {
  "kernelspec": {
   "display_name": "Python 3",
   "language": "python",
   "name": "python3"
  },
  "language_info": {
   "codemirror_mode": {
    "name": "ipython",
    "version": 3
   },
   "file_extension": ".py",
   "mimetype": "text/x-python",
   "name": "python",
   "nbconvert_exporter": "python",
   "pygments_lexer": "ipython3",
   "version": "3.7.2"
  }
 },
 "nbformat": 4,
 "nbformat_minor": 2
}

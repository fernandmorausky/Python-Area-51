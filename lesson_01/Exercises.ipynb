{
 "cells": [
  {
   "cell_type": "markdown",
   "metadata": {},
   "source": [
    "# Ejercicios #"
   ]
  },
  {
   "cell_type": "markdown",
   "metadata": {},
   "source": [
    "## 1. Bisiesto ## "
   ]
  },
  {
   "cell_type": "markdown",
   "metadata": {},
   "source": [
    "Dado un año (entero positivo) determina si es bisiesto.\n",
    "> Un año es bisiesto si es divisible entre 4, excepto aquellos divisibles entre 100 pero no entre 400.\n",
    "\n",
    "[Más sobre años bisiestos](https://es.wikipedia.org/wiki/A%C3%B1o_bisiesto)"
   ]
  },
  {
   "cell_type": "code",
   "execution_count": 7,
   "metadata": {},
   "outputs": [
    {
     "name": "stdout",
     "output_type": "stream",
     "text": [
      "Ingrese año: 2400\n",
      "Año es bisiesto\n"
     ]
    }
   ],
   "source": [
    "n=int(input('Ingrese año: '))\n",
    "\n",
    "if (n % 4 == 0 and n % 100 != 0 ) or n % 400 == 0:\n",
    "    print('Año es bisiesto')\n",
    "else:\n",
    "    print('Año no es bisiesto')"
   ]
  },
  {
   "cell_type": "markdown",
   "metadata": {},
   "source": [
    "## 2. Cubos ##"
   ]
  },
  {
   "cell_type": "markdown",
   "metadata": {},
   "source": [
    "Lee un número entero positivo e imprime todos los números, positivos y pares menores a este, elevados al cubo."
   ]
  },
  {
   "cell_type": "code",
   "execution_count": 15,
   "metadata": {},
   "outputs": [
    {
     "name": "stdout",
     "output_type": "stream",
     "text": [
      "Ingrese numero: 7\n",
      "8 64 216 "
     ]
    }
   ],
   "source": [
    "n=int(input('Ingrese numero: '))\n",
    "for i in range(2,n,2):\n",
    "    print(i**3,end=' ')\n",
    "    "
   ]
  },
  {
   "cell_type": "markdown",
   "metadata": {},
   "source": [
    "## 3. Suma Impares ##"
   ]
  },
  {
   "cell_type": "markdown",
   "metadata": {},
   "source": [
    "Lee un número entero e imprime la suma de todos los números positivos impares que sean menor o igual a este."
   ]
  },
  {
   "cell_type": "code",
   "execution_count": 27,
   "metadata": {},
   "outputs": [
    {
     "name": "stdout",
     "output_type": "stream",
     "text": [
      "Ingrese numero: 9\n",
      "25\n"
     ]
    }
   ],
   "source": [
    "n=int(input('Ingrese numero: '))\n",
    "\n",
    "print(((n + 1) // 2) ** 2)"
   ]
  },
  {
   "cell_type": "markdown",
   "metadata": {},
   "source": [
    "## 4. Sistema Binario ##"
   ]
  },
  {
   "cell_type": "markdown",
   "metadata": {},
   "source": [
    "Lee un número entero positivo e imprímelo convertido al sistema binario."
   ]
  },
  {
   "cell_type": "code",
   "execution_count": 53,
   "metadata": {},
   "outputs": [
    {
     "name": "stdout",
     "output_type": "stream",
     "text": [
      "Ingrese numero: 8\n",
      "1000\n"
     ]
    }
   ],
   "source": [
    "n=int(input(\"Ingrese numero: \"))\n",
    "binario = ''\n",
    "while n:\n",
    "    binario = str(n % 2) + binario\n",
    "    n = n // 2\n",
    "print(binario)"
   ]
  },
  {
   "cell_type": "code",
   "execution_count": null,
   "metadata": {},
   "outputs": [],
   "source": []
  }
 ],
 "metadata": {
  "kernelspec": {
   "display_name": "Python 3",
   "language": "python",
   "name": "python3"
  },
  "language_info": {
   "codemirror_mode": {
    "name": "ipython",
    "version": 3
   },
   "file_extension": ".py",
   "mimetype": "text/x-python",
   "name": "python",
   "nbconvert_exporter": "python",
   "pygments_lexer": "ipython3",
   "version": "3.7.2"
  }
 },
 "nbformat": 4,
 "nbformat_minor": 2
}
